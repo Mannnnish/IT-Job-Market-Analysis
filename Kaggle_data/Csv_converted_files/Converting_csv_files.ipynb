{
 "cells": [
  {
   "cell_type": "code",
   "execution_count": 1,
   "id": "900e4011",
   "metadata": {},
   "outputs": [],
   "source": [
    "import pandas as pd"
   ]
  },
  {
   "cell_type": "code",
   "execution_count": 2,
   "id": "814e582e",
   "metadata": {},
   "outputs": [],
   "source": [
    "# df = pd.read_excel(r\"E:\\Job_Market_Analysis\\Kaggle_data\\Data Analyst_Science\\Main_Data_Analytics_Science_Data.xlsx\")\n",
    "# df2 = pd.read_excel(r\"E:\\Job_Market_Analysis\\Kaggle_data\\Tech_job_Market_in_india\\marketing_sample_for_indeed_co_in-indeed_co_in_job_data__20211001_20211231__30k_data.ldjson\\indeed_30K_Tech_jobs_data_2.xlsx\")\n",
    "# df3 = pd.read_excel(r\"E:\\Job_Market_Analysis\\Kaggle_data\\Tech_job_Market_in_india\\India_Job_Market_Dataset_last_1_year.xlsx\")\n",
    "# df4 = pd.read_excel(r\"E:\\Job_Market_Analysis\\Kaggle_data\\Tech_job_Market_in_india\\Tech_Job_market_2.xlsx\")\n",
    "# df5 = pd.read_excel(r\"E:\\Job_Market_Analysis\\Kaggle_data\\Tech_job_Market_in_india\\Tech_Jobs_Market.xlsx\")\n",
    "df6 = pd.read_excel(r\"E:\\Job_Market_Analysis\\Kaggle_data\\Tech_job_Market_in_india\\Top_IT_Jobs.xlsx\")"
   ]
  },
  {
   "cell_type": "code",
   "execution_count": null,
   "id": "784705fa",
   "metadata": {},
   "outputs": [],
   "source": [
    "# df.to_csv(\"Main_Data_Analytics_Science_Data.csv\",sep=',', quoting=1, index = 0)\n",
    "# df2.to_csv(\"indeed_30K_Tech_jobs_data_2.csv\", sep=',', quoting=1, index = 0)\n",
    "# df3.to_csv(\"India_Job_Market_Dataset_last_1_year.csv\", sep=',', quoting=1, index = 0)\n",
    "# df4.to_csv(\"Tech_Job_market_2.csv\",sep=',', quoting=1, index = 0)\n",
    "# df5.to_csv(\"Tech_Jobs_Market.csv\",sep=',', quoting=1, index = 0)\n",
    "df6.to_csv(\"Top_IT_Jobs.csv\",sep=',', quoting=1, index = 0)"
   ]
  },
  {
   "cell_type": "code",
   "execution_count": 52,
   "id": "1f476cf9",
   "metadata": {},
   "outputs": [],
   "source": [
    "df2.head(5)\n",
    "df2['Job Title'] = df2['Job Title'].str.replace(\",\",\" \")\n",
    "df2['Job Title'] = df2['Job Title'].str.replace(\"/\",\" \")\n",
    "# df2['Skills'] = df2['Skills'].str.replace(\",\",\" \")\n",
    "# df2['Skills'] = df2['Skills'].str.replace(\"/\",\" \")\n",
    "# df2['Skills'] = df2['Skills'].str[:200]\n",
    "# df2.drop(columns=('Skills'),inplace=True)"
   ]
  },
  {
   "cell_type": "code",
   "execution_count": 3,
   "id": "990cca66",
   "metadata": {},
   "outputs": [],
   "source": [
    "df3['Salary'] = df3['Salary'].astype(float)"
   ]
  },
  {
   "cell_type": "code",
   "execution_count": 12,
   "id": "b10060e9",
   "metadata": {},
   "outputs": [
    {
     "name": "stderr",
     "output_type": "stream",
     "text": [
      "<>:1: SyntaxWarning: invalid escape sequence '\\J'\n",
      "<>:1: SyntaxWarning: invalid escape sequence '\\J'\n",
      "C:\\Users\\Gourav Banjara\\AppData\\Local\\Temp\\ipykernel_7996\\1868619392.py:1: SyntaxWarning: invalid escape sequence '\\J'\n",
      "  df8 = pd.read_excel(\"E:\\Job_Market_Analysis\\Kaggle_data\\Tech_job_Market_in_india\\Tech_Job_market_2.xlsx\")\n"
     ]
    }
   ],
   "source": [
    "df8 = pd.read_excel(\"E:\\Job_Market_Analysis\\Kaggle_data\\Tech_job_Market_in_india\\Tech_Job_market_2.xlsx\") "
   ]
  },
  {
   "cell_type": "code",
   "execution_count": 19,
   "id": "960098fa",
   "metadata": {},
   "outputs": [
    {
     "data": {
      "text/html": [
       "<div>\n",
       "<style scoped>\n",
       "    .dataframe tbody tr th:only-of-type {\n",
       "        vertical-align: middle;\n",
       "    }\n",
       "\n",
       "    .dataframe tbody tr th {\n",
       "        vertical-align: top;\n",
       "    }\n",
       "\n",
       "    .dataframe thead th {\n",
       "        text-align: right;\n",
       "    }\n",
       "</style>\n",
       "<table border=\"1\" class=\"dataframe\">\n",
       "  <thead>\n",
       "    <tr style=\"text-align: right;\">\n",
       "      <th></th>\n",
       "      <th>Company</th>\n",
       "      <th>Job Title</th>\n",
       "      <th>Salary</th>\n",
       "      <th>Location</th>\n",
       "      <th>Job_Role</th>\n",
       "    </tr>\n",
       "  </thead>\n",
       "  <tbody>\n",
       "    <tr>\n",
       "      <th>0</th>\n",
       "      <td>Sasken</td>\n",
       "      <td>Android Developer</td>\n",
       "      <td>400000.0</td>\n",
       "      <td>Bangalore</td>\n",
       "      <td>Android Developer</td>\n",
       "    </tr>\n",
       "    <tr>\n",
       "      <th>1</th>\n",
       "      <td>Advanced Millennium Technologies</td>\n",
       "      <td>Android Developer</td>\n",
       "      <td>400000.0</td>\n",
       "      <td>Bangalore</td>\n",
       "      <td>Android Developer</td>\n",
       "    </tr>\n",
       "    <tr>\n",
       "      <th>2</th>\n",
       "      <td>Unacademy</td>\n",
       "      <td>Android Developer</td>\n",
       "      <td>1000000.0</td>\n",
       "      <td>Bangalore</td>\n",
       "      <td>Android Developer</td>\n",
       "    </tr>\n",
       "    <tr>\n",
       "      <th>3</th>\n",
       "      <td>SnapBizz Cloudtech</td>\n",
       "      <td>Android Developer</td>\n",
       "      <td>300000.0</td>\n",
       "      <td>Bangalore</td>\n",
       "      <td>Android Developer</td>\n",
       "    </tr>\n",
       "    <tr>\n",
       "      <th>4</th>\n",
       "      <td>Appoids Tech Solutions</td>\n",
       "      <td>Android Developer</td>\n",
       "      <td>600000.0</td>\n",
       "      <td>Bangalore</td>\n",
       "      <td>Android Developer</td>\n",
       "    </tr>\n",
       "    <tr>\n",
       "      <th>...</th>\n",
       "      <td>...</td>\n",
       "      <td>...</td>\n",
       "      <td>...</td>\n",
       "      <td>...</td>\n",
       "      <td>...</td>\n",
       "    </tr>\n",
       "    <tr>\n",
       "      <th>24831</th>\n",
       "      <td>Maruti Suzuki</td>\n",
       "      <td>Deputy Manager/Manager - Data Engineer</td>\n",
       "      <td>NaN</td>\n",
       "      <td>Bangalore</td>\n",
       "      <td>Data Engineer</td>\n",
       "    </tr>\n",
       "    <tr>\n",
       "      <th>24832</th>\n",
       "      <td>Datawrkz</td>\n",
       "      <td>Data Engineer</td>\n",
       "      <td>NaN</td>\n",
       "      <td>Bangalore</td>\n",
       "      <td>Data Engineer</td>\n",
       "    </tr>\n",
       "    <tr>\n",
       "      <th>24833</th>\n",
       "      <td>M3 Eu</td>\n",
       "      <td>Data Analyst</td>\n",
       "      <td>NaN</td>\n",
       "      <td>Bangalore</td>\n",
       "      <td>Data Analyst</td>\n",
       "    </tr>\n",
       "    <tr>\n",
       "      <th>24834</th>\n",
       "      <td>Rarr Technologies</td>\n",
       "      <td>Murex Business Analyst</td>\n",
       "      <td>NaN</td>\n",
       "      <td>Bangalore</td>\n",
       "      <td>Business Analyst</td>\n",
       "    </tr>\n",
       "    <tr>\n",
       "      <th>24835</th>\n",
       "      <td>PSRTEK</td>\n",
       "      <td>Data Engineer</td>\n",
       "      <td>NaN</td>\n",
       "      <td>Bangalore</td>\n",
       "      <td>Data Engineer</td>\n",
       "    </tr>\n",
       "  </tbody>\n",
       "</table>\n",
       "<p>24836 rows × 5 columns</p>\n",
       "</div>"
      ],
      "text/plain": [
       "                                Company  \\\n",
       "0                                Sasken   \n",
       "1      Advanced Millennium Technologies   \n",
       "2                             Unacademy   \n",
       "3                    SnapBizz Cloudtech   \n",
       "4                Appoids Tech Solutions   \n",
       "...                                 ...   \n",
       "24831                     Maruti Suzuki   \n",
       "24832                          Datawrkz   \n",
       "24833                             M3 Eu   \n",
       "24834                 Rarr Technologies   \n",
       "24835                            PSRTEK   \n",
       "\n",
       "                                    Job Title     Salary   Location  \\\n",
       "0                           Android Developer   400000.0  Bangalore   \n",
       "1                           Android Developer   400000.0  Bangalore   \n",
       "2                           Android Developer  1000000.0  Bangalore   \n",
       "3                           Android Developer   300000.0  Bangalore   \n",
       "4                           Android Developer   600000.0  Bangalore   \n",
       "...                                       ...        ...        ...   \n",
       "24831  Deputy Manager/Manager - Data Engineer        NaN  Bangalore   \n",
       "24832                           Data Engineer        NaN  Bangalore   \n",
       "24833                            Data Analyst        NaN  Bangalore   \n",
       "24834                  Murex Business Analyst        NaN  Bangalore   \n",
       "24835                           Data Engineer        NaN  Bangalore   \n",
       "\n",
       "                Job_Role  \n",
       "0      Android Developer  \n",
       "1      Android Developer  \n",
       "2      Android Developer  \n",
       "3      Android Developer  \n",
       "4      Android Developer  \n",
       "...                  ...  \n",
       "24831      Data Engineer  \n",
       "24832      Data Engineer  \n",
       "24833       Data Analyst  \n",
       "24834   Business Analyst  \n",
       "24835      Data Engineer  \n",
       "\n",
       "[24836 rows x 5 columns]"
      ]
     },
     "execution_count": 19,
     "metadata": {},
     "output_type": "execute_result"
    }
   ],
   "source": [
    "df8\n",
    "# df8['Company'] = df8['Company'].str.replace(',',\"\")"
   ]
  },
  {
   "cell_type": "code",
   "execution_count": 21,
   "id": "2db18c24",
   "metadata": {},
   "outputs": [
    {
     "name": "stderr",
     "output_type": "stream",
     "text": [
      "<>:2: SyntaxWarning: invalid escape sequence '\\J'\n",
      "<>:2: SyntaxWarning: invalid escape sequence '\\J'\n",
      "C:\\Users\\Gourav Banjara\\AppData\\Local\\Temp\\ipykernel_7996\\3325715092.py:2: SyntaxWarning: invalid escape sequence '\\J'\n",
      "  df9 = pd.read_csv(\"E:\\Job_Market_Analysis\\Kaggle_data\\Csv_converted_files\\Tech_Job_market_2.csv\", encoding='ISO-8859-1')\n"
     ]
    }
   ],
   "source": [
    "# df8.to_csv(\"Tech_Job_market_2.csv\",sep=',', quoting=1, index = 0)\n",
    "df9 = pd.read_csv(\"E:\\Job_Market_Analysis\\Kaggle_data\\Csv_converted_files\\Tech_Job_market_2.csv\", encoding='ISO-8859-1')\n",
    "df9.to_csv(\"cleaned_file.csv\", index=False, encoding='utf-8')"
   ]
  }
 ],
 "metadata": {
  "kernelspec": {
   "display_name": "Python 3",
   "language": "python",
   "name": "python3"
  },
  "language_info": {
   "codemirror_mode": {
    "name": "ipython",
    "version": 3
   },
   "file_extension": ".py",
   "mimetype": "text/x-python",
   "name": "python",
   "nbconvert_exporter": "python",
   "pygments_lexer": "ipython3",
   "version": "3.12.1"
  }
 },
 "nbformat": 4,
 "nbformat_minor": 5
}
