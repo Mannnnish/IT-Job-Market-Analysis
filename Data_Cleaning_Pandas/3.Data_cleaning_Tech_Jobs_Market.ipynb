{
 "cells": [
  {
   "cell_type": "code",
   "execution_count": 1,
   "id": "207eedfc",
   "metadata": {},
   "outputs": [],
   "source": [
    "import numpy as np\n",
    "import pandas as pd\n",
    "import seaborn as sns\n",
    "import matplotlib as plt"
   ]
  },
  {
   "cell_type": "code",
   "execution_count": 2,
   "id": "4476823a",
   "metadata": {},
   "outputs": [
    {
     "name": "stderr",
     "output_type": "stream",
     "text": [
      "<>:1: SyntaxWarning: invalid escape sequence '\\J'\n",
      "<>:1: SyntaxWarning: invalid escape sequence '\\J'\n",
      "C:\\Users\\Gourav Banjara\\AppData\\Local\\Temp\\ipykernel_12164\\850510590.py:1: SyntaxWarning: invalid escape sequence '\\J'\n",
      "  df = pd.read_excel(\"E:\\Job_Market_Analysis\\Kaggle_data\\Tech_job_Market_in_india\\Tech_Job_market.xlsx\")\n"
     ]
    }
   ],
   "source": [
    "df = pd.read_excel(\"E:\\Job_Market_Analysis\\Kaggle_data\\Tech_job_Market_in_india\\Tech_Job_market.xlsx\")"
   ]
  },
  {
   "cell_type": "code",
   "execution_count": 6,
   "id": "bec4261e",
   "metadata": {},
   "outputs": [
    {
     "data": {
      "text/html": [
       "<div>\n",
       "<style scoped>\n",
       "    .dataframe tbody tr th:only-of-type {\n",
       "        vertical-align: middle;\n",
       "    }\n",
       "\n",
       "    .dataframe tbody tr th {\n",
       "        vertical-align: top;\n",
       "    }\n",
       "\n",
       "    .dataframe thead th {\n",
       "        text-align: right;\n",
       "    }\n",
       "</style>\n",
       "<table border=\"1\" class=\"dataframe\">\n",
       "  <thead>\n",
       "    <tr style=\"text-align: right;\">\n",
       "      <th></th>\n",
       "      <th>Job Title</th>\n",
       "      <th>Location</th>\n",
       "      <th>Salary/year</th>\n",
       "      <th>Locality</th>\n",
       "      <th>City</th>\n",
       "      <th>State</th>\n",
       "    </tr>\n",
       "  </thead>\n",
       "  <tbody>\n",
       "    <tr>\n",
       "      <th>0</th>\n",
       "      <td>Robotics / STEM Trainer</td>\n",
       "      <td>Indore, Madhya Pradesh</td>\n",
       "      <td>270000.0</td>\n",
       "      <td>NaN</td>\n",
       "      <td>Indore</td>\n",
       "      <td>Madhya Pradesh</td>\n",
       "    </tr>\n",
       "    <tr>\n",
       "      <th>1</th>\n",
       "      <td>HTML Developers - Freshers</td>\n",
       "      <td>Banaswadi, Bengaluru, Karnataka</td>\n",
       "      <td>NaN</td>\n",
       "      <td>Banaswadi</td>\n",
       "      <td>Bengaluru</td>\n",
       "      <td>Karnataka</td>\n",
       "    </tr>\n",
       "    <tr>\n",
       "      <th>2</th>\n",
       "      <td>Java Developers - Freshers</td>\n",
       "      <td>Banaswadi, Bengaluru, Karnataka</td>\n",
       "      <td>NaN</td>\n",
       "      <td>Banaswadi</td>\n",
       "      <td>Bengaluru</td>\n",
       "      <td>Karnataka</td>\n",
       "    </tr>\n",
       "    <tr>\n",
       "      <th>3</th>\n",
       "      <td>Teachers - Pre-Primary and Primary (English, M...</td>\n",
       "      <td>Pulivendla, Andhra Pradesh</td>\n",
       "      <td>300000.0</td>\n",
       "      <td>NaN</td>\n",
       "      <td>Pulivendla</td>\n",
       "      <td>Andhra Pradesh</td>\n",
       "    </tr>\n",
       "    <tr>\n",
       "      <th>4</th>\n",
       "      <td>College Student</td>\n",
       "      <td>Remote</td>\n",
       "      <td>210000.0</td>\n",
       "      <td>Remote</td>\n",
       "      <td>Remote</td>\n",
       "      <td>Remote</td>\n",
       "    </tr>\n",
       "  </tbody>\n",
       "</table>\n",
       "</div>"
      ],
      "text/plain": [
       "                                           Job Title  \\\n",
       "0                            Robotics / STEM Trainer   \n",
       "1                         HTML Developers - Freshers   \n",
       "2                         Java Developers - Freshers   \n",
       "3  Teachers - Pre-Primary and Primary (English, M...   \n",
       "4                                    College Student   \n",
       "\n",
       "                          Location  Salary/year   Locality        City  \\\n",
       "0           Indore, Madhya Pradesh     270000.0        NaN      Indore   \n",
       "1  Banaswadi, Bengaluru, Karnataka          NaN  Banaswadi   Bengaluru   \n",
       "2  Banaswadi, Bengaluru, Karnataka          NaN  Banaswadi   Bengaluru   \n",
       "3       Pulivendla, Andhra Pradesh     300000.0        NaN  Pulivendla   \n",
       "4                           Remote     210000.0     Remote      Remote   \n",
       "\n",
       "            State  \n",
       "0  Madhya Pradesh  \n",
       "1       Karnataka  \n",
       "2       Karnataka  \n",
       "3  Andhra Pradesh  \n",
       "4          Remote  "
      ]
     },
     "execution_count": 6,
     "metadata": {},
     "output_type": "execute_result"
    }
   ],
   "source": [
    "df.head(5)"
   ]
  },
  {
   "cell_type": "code",
   "execution_count": null,
   "id": "565b3f03",
   "metadata": {},
   "outputs": [],
   "source": [
    "role_map = {    'Business Analyst':['Business Analyst','BI Analyst'],\n",
    "                'Data Analyst' :   ['Data_Analyst','Marketing Analyst','Reporting Analyst','Product Analyst',\n",
    "                                'Junior Data Analyst', 'Data Analyst Junior','Data Visualization Analyst','Analyst'],\n",
    "                'Data Scientist':['Data Scientist','Junior Data Scientist','Data Science Analyst', 'Data Science'],\n",
    "                'Operation Analyst':['Operations Analyst'],\n",
    "                'Financial Analyst':['Financial Analyst'],\n",
    "                'Data Engineer':['Data Engineer','Database Engineer','Database'],  \n",
    "                'SQL Developer':['SQL Developer','SQl'],\n",
    "                'Software Engineer':['Software Engineer','Software'],\n",
    "                'Web Developer':['Web Developer', 'Web Development', 'WordPress', 'Full Stack'],\n",
    "                '.Net Developer': ['.Net Developer','Dot Net Developer' ] , \n",
    "                'IOS Developer':['IOS Developer','IOS'],\n",
    "                'Python Developer':['Python Developer', 'Python'],\n",
    "                'Java Developer':['Java Developer','Java'],\n",
    "                'C/C++ Developer':['C/C++_Developer','C/C++','C++'],\n",
    "                'Javascript Developer':['Javascript_Developer','Javascript','React JS','Reactjs','Nodejs','Node JS', 'JS Developer'],\n",
    "                'Technical Support_Engineer' : ['Technical_Support_Engineer','Technical', 'Tech Support', 'Technical Support'],\n",
    "                'Application Developer':['Application_Developer'],\n",
    "                'Frontend Developer': ['Frontend','HTML','CSS'],\n",
    "                'Backend Developer':['Backend'],\n",
    "                'Mechenical Engineer':['Mechenical'],\n",
    "                'Civil Engineer' : ['Civil'],\n",
    "                'PHP Developer':['PHP'],\n",
    "                'Android Developer':['Android'],\n",
    "                'Digital Marketing':['Digital Marketing','SEO','Search Engine Optimization'],\n",
    "                'Cloud Engineer':['Cloud Enginner','Azure','AWS'],\n",
    "                'Testing Developer': [ 'Testing', 'Software Testers'],\n",
    "                'UI/UX Engineer':['UI','UX','UI/UX'],\n",
    "                'Game Developer':['Game'],\n",
    "                'Data Entry Operator':['Data Entry'],\n",
    "                'Customer Support':['Customer Support'],\n",
    "                'Mobile App Developer':['Mobile App Developer', 'Mobile'],\n",
    "                'AI_Engineer':['Ai', 'ML','AIML','Artificial Intelligence','AI/ML' 'Machine Learning']\n",
    "                }"
   ]
  },
  {
   "cell_type": "code",
   "execution_count": 4,
   "id": "126f6ba8",
   "metadata": {},
   "outputs": [],
   "source": [
    "def map_job_role(title):\n",
    "    title = str(title).lower()\n",
    "    for role, patterns in role_map.items():\n",
    "        for pattern in patterns:\n",
    "            if pattern.lower() in title:\n",
    "                return role\n",
    "    return None"
   ]
  },
  {
   "cell_type": "code",
   "execution_count": null,
   "id": "ff461cb2",
   "metadata": {},
   "outputs": [],
   "source": [
    "df['Job_Role'] = df['Job Title'].apply(map_job_role)"
   ]
  },
  {
   "cell_type": "code",
   "execution_count": 19,
   "id": "1baef5c7",
   "metadata": {},
   "outputs": [],
   "source": [
    "df.head(50)\n",
    "df = df[df['Job_Role'].notnull()]"
   ]
  },
  {
   "cell_type": "code",
   "execution_count": 23,
   "id": "f5d1e3cf",
   "metadata": {},
   "outputs": [],
   "source": [
    "df.head(20)\n",
    "df.reset_index(drop=True, inplace=True)\n",
    "df.index+=1"
   ]
  },
  {
   "cell_type": "code",
   "execution_count": 27,
   "id": "65107e87",
   "metadata": {},
   "outputs": [],
   "source": [
    "df.to_excel('Tech_Jobs_Market.xlsx', index=0)"
   ]
  },
  {
   "cell_type": "markdown",
   "id": "3f65b644",
   "metadata": {},
   "source": [
    "Top_IT_Jobs_Data_Cleaning\n"
   ]
  },
  {
   "cell_type": "code",
   "execution_count": 5,
   "id": "f048ab44",
   "metadata": {},
   "outputs": [
    {
     "name": "stderr",
     "output_type": "stream",
     "text": [
      "<>:1: SyntaxWarning: invalid escape sequence '\\J'\n",
      "<>:1: SyntaxWarning: invalid escape sequence '\\J'\n",
      "C:\\Users\\Gourav Banjara\\AppData\\Local\\Temp\\ipykernel_9280\\2709722768.py:1: SyntaxWarning: invalid escape sequence '\\J'\n",
      "  df2 = pd.read_csv(\"E:\\Job_Market_Analysis\\Kaggle_data\\Data Analyst_Science\\Data Science_Jobs .csv\")\n"
     ]
    }
   ],
   "source": [
    "df2 = pd.read_csv(\"E:\\Job_Market_Analysis\\Kaggle_data\\Data Analyst_Science\\Data Science_Jobs .csv\") "
   ]
  },
  {
   "cell_type": "code",
   "execution_count": 7,
   "id": "6033093f",
   "metadata": {},
   "outputs": [
    {
     "data": {
      "text/html": [
       "<div>\n",
       "<style scoped>\n",
       "    .dataframe tbody tr th:only-of-type {\n",
       "        vertical-align: middle;\n",
       "    }\n",
       "\n",
       "    .dataframe tbody tr th {\n",
       "        vertical-align: top;\n",
       "    }\n",
       "\n",
       "    .dataframe thead th {\n",
       "        text-align: right;\n",
       "    }\n",
       "</style>\n",
       "<table border=\"1\" class=\"dataframe\">\n",
       "  <thead>\n",
       "    <tr style=\"text-align: right;\">\n",
       "      <th></th>\n",
       "      <th>Job Title</th>\n",
       "      <th>Company Name</th>\n",
       "      <th>Location</th>\n",
       "      <th>Experience</th>\n",
       "      <th>Salary</th>\n",
       "      <th>Job Description</th>\n",
       "      <th>Skills</th>\n",
       "      <th>Unnamed: 7</th>\n",
       "    </tr>\n",
       "  </thead>\n",
       "  <tbody>\n",
       "    <tr>\n",
       "      <th>0</th>\n",
       "      <td>Data Scientist</td>\n",
       "      <td>Uplers</td>\n",
       "      <td>Hybrid - Bengaluru</td>\n",
       "      <td>0-4 Yrs</td>\n",
       "      <td>19-27.5 Lacs PA</td>\n",
       "      <td>Shift : 10:00AM to 7:00PM ISTBachelors / Maste...</td>\n",
       "      <td>Python, TensorFlow, Computer Vision, Flink, Re...</td>\n",
       "      <td>NaN</td>\n",
       "    </tr>\n",
       "    <tr>\n",
       "      <th>1</th>\n",
       "      <td>Business Analyst / Data Scientist</td>\n",
       "      <td>CBRE</td>\n",
       "      <td>Hybrid - Bengaluru</td>\n",
       "      <td>0-4 Yrs</td>\n",
       "      <td>19-27.5 Lacs PA</td>\n",
       "      <td>Shift : 10:00AM to 7:00PM ISTBachelors / Maste...</td>\n",
       "      <td>Data Visualization, Tableau, Analytics, Busine...</td>\n",
       "      <td>NaN</td>\n",
       "    </tr>\n",
       "    <tr>\n",
       "      <th>2</th>\n",
       "      <td>Data Scientist - AI/ML</td>\n",
       "      <td>Trent Limited</td>\n",
       "      <td>Hybrid - Bengaluru</td>\n",
       "      <td>0-4 Yrs</td>\n",
       "      <td>19-27.5 Lacs PA</td>\n",
       "      <td>Shift : 10:00AM to 7:00PM ISTBachelors / Maste...</td>\n",
       "      <td>Artificial Intelligence, Machine Learning, Dat...</td>\n",
       "      <td>NaN</td>\n",
       "    </tr>\n",
       "    <tr>\n",
       "      <th>3</th>\n",
       "      <td>Data Scientist</td>\n",
       "      <td>Fortune 500 IT Services Company</td>\n",
       "      <td>Hybrid - Bengaluru</td>\n",
       "      <td>0-4 Yrs</td>\n",
       "      <td>19-27.5 Lacs PA</td>\n",
       "      <td>Shift : 10:00AM to 7:00PM ISTBachelors / Maste...</td>\n",
       "      <td>NaN</td>\n",
       "      <td>NaN</td>\n",
       "    </tr>\n",
       "    <tr>\n",
       "      <th>4</th>\n",
       "      <td>Data Scientist</td>\n",
       "      <td>Foreign IT Consulting MNC</td>\n",
       "      <td>Hybrid - Bengaluru</td>\n",
       "      <td>0-4 Yrs</td>\n",
       "      <td>19-27.5 Lacs PA</td>\n",
       "      <td>Shift : 10:00AM to 7:00PM ISTBachelors / Maste...</td>\n",
       "      <td>NaN</td>\n",
       "      <td>NaN</td>\n",
       "    </tr>\n",
       "  </tbody>\n",
       "</table>\n",
       "</div>"
      ],
      "text/plain": [
       "                           Job Title                     Company Name  \\\n",
       "0                     Data Scientist                           Uplers   \n",
       "1  Business Analyst / Data Scientist                             CBRE   \n",
       "2             Data Scientist - AI/ML                    Trent Limited   \n",
       "3                     Data Scientist  Fortune 500 IT Services Company   \n",
       "4                     Data Scientist        Foreign IT Consulting MNC   \n",
       "\n",
       "             Location Experience           Salary  \\\n",
       "0  Hybrid - Bengaluru    0-4 Yrs  19-27.5 Lacs PA   \n",
       "1  Hybrid - Bengaluru    0-4 Yrs  19-27.5 Lacs PA   \n",
       "2  Hybrid - Bengaluru    0-4 Yrs  19-27.5 Lacs PA   \n",
       "3  Hybrid - Bengaluru    0-4 Yrs  19-27.5 Lacs PA   \n",
       "4  Hybrid - Bengaluru    0-4 Yrs  19-27.5 Lacs PA   \n",
       "\n",
       "                                     Job Description  \\\n",
       "0  Shift : 10:00AM to 7:00PM ISTBachelors / Maste...   \n",
       "1  Shift : 10:00AM to 7:00PM ISTBachelors / Maste...   \n",
       "2  Shift : 10:00AM to 7:00PM ISTBachelors / Maste...   \n",
       "3  Shift : 10:00AM to 7:00PM ISTBachelors / Maste...   \n",
       "4  Shift : 10:00AM to 7:00PM ISTBachelors / Maste...   \n",
       "\n",
       "                                              Skills  Unnamed: 7  \n",
       "0  Python, TensorFlow, Computer Vision, Flink, Re...         NaN  \n",
       "1  Data Visualization, Tableau, Analytics, Busine...         NaN  \n",
       "2  Artificial Intelligence, Machine Learning, Dat...         NaN  \n",
       "3                                                NaN         NaN  \n",
       "4                                                NaN         NaN  "
      ]
     },
     "execution_count": 7,
     "metadata": {},
     "output_type": "execute_result"
    }
   ],
   "source": [
    "df2.head()"
   ]
  },
  {
   "cell_type": "code",
   "execution_count": 40,
   "id": "7e6d9bc5",
   "metadata": {},
   "outputs": [
    {
     "data": {
      "text/plain": [
       "Job Title          1233\n",
       "Company Name       1233\n",
       "Location           1233\n",
       "Experience         1233\n",
       "Salary             1233\n",
       "Job Description    1233\n",
       "Skills             1218\n",
       "Unnamed: 7            0\n",
       "Job_Role              0\n",
       "dtype: int64"
      ]
     },
     "execution_count": 40,
     "metadata": {},
     "output_type": "execute_result"
    }
   ],
   "source": [
    "df2[df2['Job_Role'].isnull()].count()"
   ]
  },
  {
   "cell_type": "code",
   "execution_count": 38,
   "id": "76951505",
   "metadata": {},
   "outputs": [],
   "source": [
    "df2['Job_Role'] = df2['Job Title'].apply(map_job_role)"
   ]
  },
  {
   "cell_type": "code",
   "execution_count": 39,
   "id": "f49bad3e",
   "metadata": {},
   "outputs": [],
   "source": [
    "df2.to_excel(\"Top_IT_Jobs.xlsx\", index = 0)"
   ]
  },
  {
   "cell_type": "code",
   "execution_count": null,
   "id": "81abe11d",
   "metadata": {},
   "outputs": [],
   "source": []
  },
  {
   "cell_type": "code",
   "execution_count": null,
   "id": "f0708177",
   "metadata": {},
   "outputs": [],
   "source": []
  },
  {
   "cell_type": "code",
   "execution_count": null,
   "id": "43e403d8",
   "metadata": {},
   "outputs": [],
   "source": []
  }
 ],
 "metadata": {
  "kernelspec": {
   "display_name": "Python 3",
   "language": "python",
   "name": "python3"
  },
  "language_info": {
   "codemirror_mode": {
    "name": "ipython",
    "version": 3
   },
   "file_extension": ".py",
   "mimetype": "text/x-python",
   "name": "python",
   "nbconvert_exporter": "python",
   "pygments_lexer": "ipython3",
   "version": "3.12.1"
  }
 },
 "nbformat": 4,
 "nbformat_minor": 5
}
