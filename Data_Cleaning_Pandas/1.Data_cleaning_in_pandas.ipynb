{
 "cells": [
  {
   "cell_type": "markdown",
   "metadata": {},
   "source": [
    "File cleaning Of \n",
    "\"marketing_sample_for_indeed_co_in-indeed_co_in_job_data__20211001_20211231__30k_data\""
   ]
  },
  {
   "cell_type": "code",
   "execution_count": 3,
   "metadata": {},
   "outputs": [],
   "source": [
    "import pandas as pd\n",
    "import json"
   ]
  },
  {
   "cell_type": "code",
   "execution_count": 7,
   "metadata": {},
   "outputs": [],
   "source": [
    "df1 = pd.read_csv(r\"E:\\Job_Market_Analysis\\Kaggle_data\\Data Analyst_Science\\NaukriData_Data Science.csv\")\n",
    "df1.to_excel(\"NaukriData_Data Science.xlsx\", index = 0)"
   ]
  },
  {
   "cell_type": "code",
   "execution_count": 2,
   "metadata": {},
   "outputs": [
    {
     "name": "stderr",
     "output_type": "stream",
     "text": [
      "<>:1: SyntaxWarning: invalid escape sequence '\\J'\n",
      "<>:1: SyntaxWarning: invalid escape sequence '\\J'\n",
      "C:\\Users\\Gourav Banjara\\AppData\\Local\\Temp\\ipykernel_18556\\2171958801.py:1: SyntaxWarning: invalid escape sequence '\\J'\n",
      "  df = pd.read_json(\"E:\\Job_Market_Analysis\\Kaggle_data\\marketing_sample_for_indeed_co_in-indeed_co_in_job_data__20211001_20211231__30k_data.ldjson\\marketing_sample_for_indeed_co_in-indeed_co_in_job_data__20211001_20211231__30k_data.ldjson\", lines=True)\n"
     ]
    }
   ],
   "source": [
    "df = pd.read_json(\"E:\\Job_Market_Analysis\\Kaggle_data\\marketing_sample_for_indeed_co_in-indeed_co_in_job_data__20211001_20211231__30k_data.ldjson\\marketing_sample_for_indeed_co_in-indeed_co_in_job_data__20211001_20211231__30k_data.ldjson\", lines=True)"
   ]
  },
  {
   "cell_type": "code",
   "execution_count": null,
   "metadata": {},
   "outputs": [],
   "source": [
    "df.head(5)"
   ]
  },
  {
   "cell_type": "code",
   "execution_count": null,
   "metadata": {},
   "outputs": [],
   "source": [
    "del df['uniq_id']\n",
    "del df['url']\n",
    "del df['logo_url']\n",
    "del df['country']\n",
    "del df['run_forced']\n",
    "del df['job_desc_char_count']\n",
    "del df['ijp_reprocessed_flag_1']\n",
    "df.head(5)\n",
    "df.columns\n"
   ]
  },
  {
   "cell_type": "code",
   "execution_count": null,
   "metadata": {},
   "outputs": [],
   "source": [
    "df['fitness_score'].head(5)"
   ]
  },
  {
   "cell_type": "code",
   "execution_count": 6,
   "metadata": {},
   "outputs": [],
   "source": [
    "needed_data = pd.DataFrame({'timestamp':df['crawl_timestamp'], 'Job Title':df['job_title'], 'category':df['category'],'city':df['city'],\n",
    "                            'post_date':df['post_date'],'job_description':df['job_description'],'job_type':df['job_type'],'job_board':df['job_board'],\n",
    "                            'postdate_yyyymmdd':df['postdate_yyyymmdd'],'has_expired':df['has_expired'],'dataset':df['dataset']})"
   ]
  },
  {
   "cell_type": "code",
   "execution_count": null,
   "metadata": {},
   "outputs": [],
   "source": [
    "del needed_data['dataset']\n",
    "del needed_data['postdate_yyyymmdd']\n",
    "del needed_data['has_expired']\n",
    "del needed_data['timestamp']\n",
    "needed_data['Job Title'].head(60)"
   ]
  },
  {
   "cell_type": "code",
   "execution_count": 8,
   "metadata": {},
   "outputs": [],
   "source": [
    "list = ['Business Analyst','Data Science Analyst','Marketing Analyst','Operations Analyst','Financial Analyst','Data Scientist',\n",
    "        'BI Analyst','Reporting Analyst','Product Analyst','Data Visualization Analyst','Data Engineer', 'Junior Data Scientist', 'Junior Data Analyst', \n",
    "        'Data Analyst Junior']\n",
    "pattern = '|'.join(list)"
   ]
  },
  {
   "cell_type": "code",
   "execution_count": 9,
   "metadata": {},
   "outputs": [
    {
     "data": {
      "text/plain": [
       "(578, 7)"
      ]
     },
     "execution_count": 9,
     "metadata": {},
     "output_type": "execute_result"
    }
   ],
   "source": [
    "filtered_data = needed_data[needed_data['Job Title'].str.contains(pattern, case=False, na=False)]\n",
    "needed_data.columns\n",
    "filtered_data.shape"
   ]
  },
  {
   "cell_type": "code",
   "execution_count": 10,
   "metadata": {},
   "outputs": [],
   "source": [
    "filtered_data.reset_index(drop = True, inplace = True, col_fill=\"Sr_No\", col_level=3)\n",
    "filtered_data.index+=1\n"
   ]
  },
  {
   "cell_type": "code",
   "execution_count": 11,
   "metadata": {},
   "outputs": [
    {
     "data": {
      "text/html": [
       "<div>\n",
       "<style scoped>\n",
       "    .dataframe tbody tr th:only-of-type {\n",
       "        vertical-align: middle;\n",
       "    }\n",
       "\n",
       "    .dataframe tbody tr th {\n",
       "        vertical-align: top;\n",
       "    }\n",
       "\n",
       "    .dataframe thead th {\n",
       "        text-align: right;\n",
       "    }\n",
       "</style>\n",
       "<table border=\"1\" class=\"dataframe\">\n",
       "  <thead>\n",
       "    <tr style=\"text-align: right;\">\n",
       "      <th></th>\n",
       "      <th>Job Title</th>\n",
       "      <th>category</th>\n",
       "      <th>city</th>\n",
       "      <th>post_date</th>\n",
       "      <th>job_description</th>\n",
       "      <th>job_type</th>\n",
       "      <th>job_board</th>\n",
       "    </tr>\n",
       "  </thead>\n",
       "  <tbody>\n",
       "    <tr>\n",
       "      <th>3</th>\n",
       "      <td>Financial Analyst India</td>\n",
       "      <td>Manufacturing</td>\n",
       "      <td>Punjab</td>\n",
       "      <td>2021-12-31</td>\n",
       "      <td>The Financial Analyst will be responsible for ...</td>\n",
       "      <td>Full-time</td>\n",
       "      <td>indeed</td>\n",
       "    </tr>\n",
       "    <tr>\n",
       "      <th>1</th>\n",
       "      <td>Business Analyst</td>\n",
       "      <td>Management</td>\n",
       "      <td>Kochi</td>\n",
       "      <td>2021-12-15</td>\n",
       "      <td>Job Description – Requirement/Business Analyst...</td>\n",
       "      <td>Full-time</td>\n",
       "      <td>indeed</td>\n",
       "    </tr>\n",
       "    <tr>\n",
       "      <th>4</th>\n",
       "      <td>Calypso Back Office Business Analyst</td>\n",
       "      <td>Consultant</td>\n",
       "      <td>Chennai</td>\n",
       "      <td>2021-11-23</td>\n",
       "      <td>Project Description We have been engaged by a ...</td>\n",
       "      <td>Full-time</td>\n",
       "      <td>indeed</td>\n",
       "    </tr>\n",
       "    <tr>\n",
       "      <th>2</th>\n",
       "      <td>Data Scientist</td>\n",
       "      <td>Scientific</td>\n",
       "      <td>Hyderabad</td>\n",
       "      <td>2021-11-09</td>\n",
       "      <td>At Franklin Templeton, everything we do is foc...</td>\n",
       "      <td>Full-time</td>\n",
       "      <td>indeed</td>\n",
       "    </tr>\n",
       "    <tr>\n",
       "      <th>5</th>\n",
       "      <td>Business Analyst</td>\n",
       "      <td>IT</td>\n",
       "      <td>Mumbai</td>\n",
       "      <td>2021-10-03</td>\n",
       "      <td>Business Analyst - Della Leaders Club - Mumbai...</td>\n",
       "      <td>Full-time</td>\n",
       "      <td>indeed</td>\n",
       "    </tr>\n",
       "  </tbody>\n",
       "</table>\n",
       "</div>"
      ],
      "text/plain": [
       "                              Job Title       category       city   post_date  \\\n",
       "3               Financial Analyst India  Manufacturing     Punjab  2021-12-31   \n",
       "1                      Business Analyst     Management      Kochi  2021-12-15   \n",
       "4  Calypso Back Office Business Analyst     Consultant    Chennai  2021-11-23   \n",
       "2                        Data Scientist     Scientific  Hyderabad  2021-11-09   \n",
       "5                      Business Analyst             IT     Mumbai  2021-10-03   \n",
       "\n",
       "                                     job_description   job_type job_board  \n",
       "3  The Financial Analyst will be responsible for ...  Full-time    indeed  \n",
       "1  Job Description – Requirement/Business Analyst...  Full-time    indeed  \n",
       "4  Project Description We have been engaged by a ...  Full-time    indeed  \n",
       "2  At Franklin Templeton, everything we do is foc...  Full-time    indeed  \n",
       "5  Business Analyst - Della Leaders Club - Mumbai...  Full-time    indeed  "
      ]
     },
     "execution_count": 11,
     "metadata": {},
     "output_type": "execute_result"
    }
   ],
   "source": [
    "filtered_data.head(5).sort_values('post_date', ascending=False)\n"
   ]
  },
  {
   "cell_type": "code",
   "execution_count": 13,
   "metadata": {},
   "outputs": [
    {
     "name": "stderr",
     "output_type": "stream",
     "text": [
      "C:\\Users\\Gourav Banjara\\AppData\\Local\\Temp\\ipykernel_18556\\719131940.py:1: SettingWithCopyWarning: \n",
      "A value is trying to be set on a copy of a slice from a DataFrame.\n",
      "Try using .loc[row_indexer,col_indexer] = value instead\n",
      "\n",
      "See the caveats in the documentation: https://pandas.pydata.org/pandas-docs/stable/user_guide/indexing.html#returning-a-view-versus-a-copy\n",
      "  filtered_data['Job_Title'] = filtered_data['Job Title']\n"
     ]
    },
    {
     "data": {
      "text/plain": [
       "array(['Business Analyst', 'Data Scientist', 'Financial Analyst India',\n",
       "       'Calypso Back Office Business Analyst',\n",
       "       'Business Analyst - Life Sciences', 'Senior Data Engineer - GAMMA',\n",
       "       'Job | Data Scientist( permanent Remote working)',\n",
       "       'Senior Business Analyst',\n",
       "       'Senior Business Analyst- Accounting | 10 To 12 Years | Chennai & Bangalore',\n",
       "       'Data Scientist-1', 'Big Data Engineer',\n",
       "       'Bioprocess Data Scientist',\n",
       "       'Remote Senior Data Engineer (SQL, Python, Scala, Java, and C#)',\n",
       "       'Financial Analyst, IN Operations', 'Data Engineer',\n",
       "       'CIB - Securities Services Operations - Business Analyst - Team Leader',\n",
       "       'Sr. Reporting Analyst', 'Big Data Engineer ( Hadoop + Java)',\n",
       "       'Financial Analyst', 'Data Engineer: Master Data Management',\n",
       "       'Business Analyst(Junior Analyst)', 'Mgr-Data Engineering',\n",
       "       'Lead Consultant - Business Analyst',\n",
       "       'Data Engineer: Data Modeling',\n",
       "       'Snowflake Data Engineer | 4 to 6 years | Bengaluru & Hyderabad',\n",
       "       'Data Engineer: Big Data', 'Azure Data Engineer',\n",
       "       'Specialist - Data Engineering', 'Sales Operations Analyst',\n",
       "       'Business Analyst: ADM', 'Data Engineer: Data Integration',\n",
       "       'DG - Business Analyst - Order Management',\n",
       "       'Operations Analyst - Mutual Fund Operations',\n",
       "       'BUSINESS ANALYST SUPPORT', 'Project Financial Analyst',\n",
       "       'Big Data Engineering Developer',\n",
       "       'Data Engineer: Advanced Analytics',\n",
       "       'Assistant Manager - Data Engineer',\n",
       "       'DG - Business Analyst - Transactional Buyer & Fulfillment Specialist',\n",
       "       'Chapter Lead Data Engineer',\n",
       "       'Business Analyst II, Bookings Operations Bangalore, Karnataka',\n",
       "       'Consultant, Business Analyst',\n",
       "       'Business Analyst, Tech Product Management',\n",
       "       'Team Lead - Cloud Data Engineer', 'Process Data Engineer',\n",
       "       'Business Analyst Generic | 6 to 9 years | Mumbai & Bengaluru',\n",
       "       'Reporting Analyst - Contractual position',\n",
       "       'RISK BUSINESS ANALYST', 'Senior Business Analyst - Technical',\n",
       "       'Data Engineer: Data Warehouse', 'Business Analyst - SAP EHS',\n",
       "       'Data Scientist - GoFood', 'Technical Business Analyst',\n",
       "       'RPA Business Analyst', 'Lead Data Scientist',\n",
       "       'Business Analyst cum Project Manager',\n",
       "       'Business Analyst I - Home Lending Servicing',\n",
       "       'Tech Lead - Data Engineer',\n",
       "       'Data Engineer: Business Intelligence',\n",
       "       'Reporting Analyst - Gurgaon, HR',\n",
       "       'Business analyst with Investment and Regulatory knowledge',\n",
       "       'Data Scientist - MLE Ops (Loyalty, Partnership & Monetisation)',\n",
       "       'Senior Data Engineer',\n",
       "       'Business Analyst I - Regulatory Services Analytics and Reporting',\n",
       "       'Opportunity For Business Analyst with leading ecommerce company',\n",
       "       'Product Analyst', 'Technical & Business Operations Analyst',\n",
       "       'Advisor, Data Engineering',\n",
       "       'Principal Consultant – Business Analyst',\n",
       "       'Senior Process Data Engineer', 'Business Analyst (Online Bidder)',\n",
       "       'Tech Consulting- D&A- Data Engineer-Senior-42-3',\n",
       "       'Data Engineering Application Developer', 'Operations Analyst',\n",
       "       'Customer Service & Operations Analyst',\n",
       "       'Regulatory & SEC reporting Analyst',\n",
       "       'Process Architecture Business Analyst',\n",
       "       'Big Data Engineer - Tech Lead', 'IT Recruitment Business Analyst',\n",
       "       'Sr. Data Engineer',\n",
       "       'Remote Data Engineer (Azure Cognitive Services and Azure PaaS)',\n",
       "       'Data Engineer I', 'Bigdata Engineer -Spark Graduate',\n",
       "       'Dir, Data Engineering', 'Data Scientist, Senior Analyst',\n",
       "       'Associate Business Analyst- Spiceworks',\n",
       "       'Data Engineering Associate',\n",
       "       'Credit Risk IT Business Analyst, AVP',\n",
       "       'Senior Applied Data Scientist',\n",
       "       'CIB - Market Operations - Payments Operations - Operations Analyst',\n",
       "       'Business Analyst, Financial Systems',\n",
       "       'Engr III Cslt-Data Engineering',\n",
       "       'CIB - Market Operations - Payment Lifecycle Specialist - Operations Analyst',\n",
       "       'Business Operations Analyst',\n",
       "       'Deputy Manager_Senior Analyst_Data Engineer_Pune',\n",
       "       'CIB- Wholesale Payment Operations - Business Analyst & Reporting Analyst - Associate',\n",
       "       'Data Engineer – Bengaluru', 'Data Scientist Lead',\n",
       "       'Lead Business Analyst', 'DATA SCIENTIST- (4 positions )',\n",
       "       'WFM Reporting Analyst', 'Senior Financial Analyst',\n",
       "       'Product Analyst- (SQL/Tableau/Digital)',\n",
       "       'Associate Business Analyst-Financial Systems',\n",
       "       'Business Analyst with ETL - GRPK', 'Lead Data Engineer',\n",
       "       'Manager - Data Engineering',\n",
       "       'Client Technology Customer Success Senior Data Engineer, Assistant Director',\n",
       "       'Senior Business Analyst Oracle Finance',\n",
       "       'CIB - Securities Services Operations - Fund Servicing Specialist IV - Operations Analyst',\n",
       "       'Senior Staff Data Scientist View Jobs',\n",
       "       'Consultant, Business Analyst (4.5-6 years)',\n",
       "       'Data Scientist: Artificial Intelligence',\n",
       "       'Operations Analyst - India',\n",
       "       'Data Engineering Consultant - Gurgaon, HR',\n",
       "       'CIB - Wholesale Payment Operations - Payment Lifecycle Specialist - Operations Analyst',\n",
       "       'Senior Cloud Data Engineer 1',\n",
       "       'Business Analyst- E Trading(FXall/360 T)',\n",
       "       'Professional 1 Business Analyst (51005644)',\n",
       "       'Sr. Business Analyst',\n",
       "       'Deputy Manager_Assistant Lead-ERP- Data Scientist_Pune',\n",
       "       'Associate Financial Analyst', 'Data Engineer II',\n",
       "       'Business Analyst/Developer', 'Graduate Data Engineer',\n",
       "       'Manager - IT Business Analyst - Bangalore',\n",
       "       'CIB - SECURITIES SERVICES OPERATIONS - Client Data Specialist IV - Operations Analyst',\n",
       "       'Senior Manager - Forecasting data scientist',\n",
       "       'Strategic Business Analyst', 'Customer Operations Analyst',\n",
       "       'DG - Business Analyst - Data Visualization',\n",
       "       'Big Data Analysis Tool and Techniques Digital Data Engineering Practitioner',\n",
       "       'Sr. Operations Analyst', 'Principal Data Scientist',\n",
       "       'Sr. IT Sourcing Business Analyst', 'Reporting Analyst II',\n",
       "       'Fund Operations Analyst',\n",
       "       'DG - Business Analyst - Product Technical writing engineer',\n",
       "       'Business Analyst - RnF | Financial Markets',\n",
       "       'Sr. RPA Business Analyst', 'Data Scientist & ML Engineer Lead DL',\n",
       "       'Senior Big Data Engineer', 'Data Scientist (Techn) Job stage 7',\n",
       "       'Lead Engineer – Data Engineering', 'Junior Business Analyst',\n",
       "       'Business Analyst- SAP Business Objects',\n",
       "       'Business Analyst (French )', 'Sr. Operations Analyst- India',\n",
       "       'Reporting Analyst', 'DG - Business Analyst - Software Testing',\n",
       "       'Senior Process Data engineer-Process control',\n",
       "       'Business Analyst Freshers',\n",
       "       'Business Analyst | Mumbai or Chennai',\n",
       "       'Associate Business Analyst', 'Senio Executive - Data Scientist',\n",
       "       'Cloud Data Engineer Trainer',\n",
       "       'Senior Business Analyst/Markets Securities Services',\n",
       "       'Security Operations Analyst', 'Senior Business Analyst - TSO',\n",
       "       'Manager - Business Analyst ( Treasury & Finance )',\n",
       "       'Business Analyst- Duck Creek',\n",
       "       'Senior Business Analyst – Corporate Strategic Initiatives',\n",
       "       'Business Analyst (Timings 2:00PM -11:00PM)',\n",
       "       'Data Scientist: Advanced Analytics',\n",
       "       'Senior Product Analyst (Ad Monetization)- Glance',\n",
       "       'Advanced Analytics Expert - Data Scientist',\n",
       "       'Collateral Operations Analyst', 'Operations Analyst 4',\n",
       "       'Experienced Data Scientist',\n",
       "       'Senior Information Security Operations Analyst',\n",
       "       'Celonis -Data Scientist-TTS Automation and Workflow Technologies',\n",
       "       'GCP Data Engineer (ONSITE - EUROPE)',\n",
       "       'Sr Data Engineer (Snowflake)',\n",
       "       'Hiring for Business Analyst @ Kochi for a leading IT Co.',\n",
       "       'Airline Business Analyst', 'WFM & BI Analyst',\n",
       "       'Senior Contract and Sales Operations Analyst',\n",
       "       'Senior Data engineer', 'Senior Data Engineer-Manufacturing',\n",
       "       'Data Scientist II', 'Senior Marketing Analyst, Content',\n",
       "       'Business Analyst - Supply Chain',\n",
       "       'Agile Business Analyst/Group Data Technology',\n",
       "       'Senior Data Scientist', 'Data Scientist- IT Manager',\n",
       "       'Business Analyst, Technology', '4A_Data Scientist_Lead',\n",
       "       'java and bigdata engineer',\n",
       "       'Senior Specialist - Data Engineering',\n",
       "       'CIB - Markets - E-Trading Middle Office - Operations Analyst',\n",
       "       'Data Analyst - Financial Analyst',\n",
       "       'Product Owner / Business Analyst', 'Lead Business Analyst- AML',\n",
       "       'Sr Business Analyst - Sales Support', 'Sr Business Analyst IND',\n",
       "       'Deputy Manager_Assistant Lead_Data Engineer_Bangalore/Pune',\n",
       "       'PHP,UI, UX Developer, Digital,Business, Marketing Analyst , testing.',\n",
       "       'Data Engineering - Associates- PwC Labs Bangalore',\n",
       "       'Business Analyst- Analytics',\n",
       "       'Business Analyst - Global Supplier Management',\n",
       "       'Business Analyst (Finance/ Capital Markets)',\n",
       "       'Business Analyst - (New Grad) - India UHR',\n",
       "       'Business Analyst (Workforce Analyst)',\n",
       "       'Lead Data Engineer - Scala', 'DevOps Engineer - Data Engineering',\n",
       "       'Finance Operations Analyst', 'AVP - Java Big Data Engineer',\n",
       "       'Digital Marketing Analyst',\n",
       "       'CIB - Reference Data Operations - Data Specialist - Operations Analyst',\n",
       "       'Business Operations Analyst 2',\n",
       "       'Senior Business Analyst for AHD/ HYD',\n",
       "       'CIEL/SEL/22515: Business Analyst', 'Business Analyst, NJS',\n",
       "       'Data Engineer-Redshift',\n",
       "       'Metrics - Analytics and Reporting Analyst',\n",
       "       \"Business Analyst - Founder's Office\", 'Systems/Business Analyst',\n",
       "       'Data Engineer: Enterprise Content Management',\n",
       "       'Business Analyst(Pre sales)',\n",
       "       'Business Analyst - Supply Planning', 'Data Engineer-Azure Cloud',\n",
       "       'Strategic Business Analyst I', 'Specialist, Data Engineer',\n",
       "       'Data Scientist(Speech Technologies)',\n",
       "       'Business Analyst/Project Manager',\n",
       "       'Manager / SM - Business Analyst',\n",
       "       'Business Analyst - Finance Domain - Immediate to 30days',\n",
       "       'Business Analyst – Digital Marketing',\n",
       "       'Client Technology Customer Success PMO Financial Analyst 1',\n",
       "       'Financial Analyst - Finance Centre of Excellence',\n",
       "       'Business Operations Analyst - Team Leader',\n",
       "       'Experienced Software Engineer - Azure Data Engineer',\n",
       "       'Lead Data Engineer - Product',\n",
       "       'Senior Business Analyst - Research Technology',\n",
       "       'AWM - Client Ops Specialist -Operations Analyst',\n",
       "       'Remote Data Scientist (Machine Learning, Python, SQL, and AWS)',\n",
       "       'Stage Data Scientist - Deep Learning - en Télétravail',\n",
       "       'Product Analyst II', 'Associate Data Engineering Manager',\n",
       "       'Business Analyst | 4 to 6 years | Noida & Bangalore',\n",
       "       'Business Analyst - OTC', 'Sr.Engineer-BI Analyst',\n",
       "       'Hyderabad Drive_Principal(Data Engineer)',\n",
       "       'Application Engineer - Data Engineering',\n",
       "       'CIB - Securities Services Operations - Fund Services Specialist IV - Operations Analyst',\n",
       "       'Transaction Processing Specialist - Operations Analyst',\n",
       "       'Data Scientist-GTS Analytics',\n",
       "       'Advisor, Data Engineering (SSRS Developer)',\n",
       "       'Associate Data Engineer (PDS)',\n",
       "       'Business Analyst - Financial Crime',\n",
       "       'Senior Data Engineer- Power BI - Gurgaon, HR',\n",
       "       'Website Project Coordinator | Business Analyst',\n",
       "       'Consulting/Principal Software Data Engineer',\n",
       "       'Manager_Lead-ERP_Data Scientist_Pune',\n",
       "       'Business Analyst - Analytics', 'Data Scientist III b',\n",
       "       'SAP Business Warehouse HANA Data Engineer (Technical)',\n",
       "       'Data Engineer - Postgres, Golden Gate',\n",
       "       'EY GDS - D&A- Staff-Cloud Data Engineer(AWS + Spark )-44-4',\n",
       "       'CIB - Securities Service’s Operations - Fund Servicing Specialist IV - Operations Analyst',\n",
       "       'Senior Product Analyst', 'Senior reporting Analyst',\n",
       "       'Business Analyst II- Data Sciences and Advanced Analytics Bangalore, Karnataka',\n",
       "       'DG - Business Analyst - Data Scientist',\n",
       "       'Sales Operations Reporting Analyst',\n",
       "       'Data Scientist II, Product Analytics',\n",
       "       'Financial Analyst-RTR specialist',\n",
       "       'Business Analyst ( Software Company )',\n",
       "       'Lead Business Analyst - Instant Payments (SEPA)',\n",
       "       'Operations Analyst 1',\n",
       "       'Remote Principal Data Scientist (Pandas/Jupyter or R/Rstudio)',\n",
       "       'Job Profile Information Security Operations Analyst II',\n",
       "       'Teamcenter – Business Analyst/5+Yrs/Bangalore',\n",
       "       'Pre-sales Business Analyst', 'Expert IT Business Analyst',\n",
       "       'Talent Operations Analyst', 'Business Analyst - CAT Modelling',\n",
       "       'Personal Assistant/Reporting Analyst', 'AP Data Engineer',\n",
       "       'Business Analyst ( Scrum Master)',\n",
       "       'Sr. Financial Analyst Bangalore, Karnataka',\n",
       "       'R-08838 Senior Data Engineer',\n",
       "       'Big Data Engineer - Wallet & Apple Pay',\n",
       "       'Data Engineer – Pune – now WFH',\n",
       "       'DX Services_BA&PO_ Business Analyst',\n",
       "       'Business Analyst - Supply Chain Analytics', 'BUSINESS ANALYST',\n",
       "       'Senior Executive Assistant & Reporting Analyst',\n",
       "       'EY GDS - D&A- Senior - Azure Cloud Data Engineer- 42-2',\n",
       "       'Data Engineer - Low code NO code developer', 'Business analyst',\n",
       "       'CIB - Trade Lifecycle Specialist IV - Operations Analyst',\n",
       "       'Financial Analyst 5',\n",
       "       'Lead Business Analyst/Associate Consultant - FX/Treasury Domain',\n",
       "       'Business Intelligence Data Engineer (m/f/x)',\n",
       "       'Sr Data Scientist / Data Science Lead',\n",
       "       'Business Analyst at MicroNXT', 'Salesforce Business Analyst',\n",
       "       'Data Scientist II View Jobs', 'Business Analyst - Finance Domain',\n",
       "       'Hiring IT Business Analyst - SDLC',\n",
       "       'Control Assurance Service Delivery & Reporting Analyst',\n",
       "       'Data Scientist – Hybrid Modeling & Process control',\n",
       "       'Sr. Data Scientist (Computer Vision, Object Detection)',\n",
       "       'AWM - Wealth Management - Mortgage Processing Specialist -Operations Analyst',\n",
       "       'Senior Business Analyst - Data Architect/Engineer',\n",
       "       'Data Engineer Sr. – ESS', 'Business Analyst (oil and gas)',\n",
       "       'Staff Data Engineer', 'Associate Data Scientist',\n",
       "       'Professional - Data Engineering', 'Data Scientist 3',\n",
       "       'Celonis-Data Scientist /Data Engineer',\n",
       "       'Data Engineer _ 3-6 years _ Wealth Management Technology',\n",
       "       'ICG Analytics: Deal Intelligence (Business Analyst - C09)',\n",
       "       'Lead Business Analyst/Wealth & Personal Banking IT',\n",
       "       'Business Analyst IV (T)', 'Business Analyst (Intern) - India UHR',\n",
       "       'Data Scientist IRC132025', 'Process Data Engineer - F and E',\n",
       "       'Business Analyst_Digital - Senior Associate - Bangalore',\n",
       "       'CIB - Wholesale Payment Operations Payment Lifecycle Analyst - Operations Analyst',\n",
       "       'Business Analyst III', 'Financial Analyst II',\n",
       "       'IT Business Analyst (Regulatory Reporting), ENO',\n",
       "       'Business Analyst - Intern', 'Senior Executive - Business Analyst',\n",
       "       'Remote Data Scientist (Python)', 'Channel Operations Analyst',\n",
       "       'Financial Analyst - AMZL South, India AMZL Finance',\n",
       "       'Executive - Network Operations Analyst',\n",
       "       'India -- Senior Business Analyst- Streamline- Chennai',\n",
       "       'BigData Engineer', 'Data Scientist - RI', 'Data Engineer - 1'],\n",
       "      dtype=object)"
      ]
     },
     "execution_count": 13,
     "metadata": {},
     "output_type": "execute_result"
    }
   ],
   "source": [
    "filtered_data['Job_Title'] = filtered_data['Job Title']\n",
    "del filtered_data['Job Title']\n",
    "filtered_data.Job_Title.unique()"
   ]
  },
  {
   "cell_type": "code",
   "execution_count": null,
   "metadata": {},
   "outputs": [],
   "source": [
    "list_values = ['Business Analyst','Data Science Analyst','Marketing Analyst','Operations Analyst','Financial Analyst','Data Scientist',\n",
    "        'BI Analyst','Reporting Analyst','Product Analyst','Data Visualization Analyst','Data Engineer', 'Junior Data Scientist', 'Junior Data Analyst', \n",
    "        'Data Analyst Junior']\n",
    "\n",
    "for i, row in filtered_data.iterrows():\n",
    "    for i1 in list_values:\n",
    "        # if (row['Job_Title'].contains(list_values(i1), case = False, na = False)):\n",
    "        if(i1.lower() in row['Job_Title'].lower()):\n",
    "            filtered_data.at[i, 'Job_Role'] = i1\n",
    "            \n",
    "filtered_data\n"
   ]
  },
  {
   "cell_type": "code",
   "execution_count": 22,
   "metadata": {},
   "outputs": [
    {
     "data": {
      "text/plain": [
       "(578, 8)"
      ]
     },
     "execution_count": 22,
     "metadata": {},
     "output_type": "execute_result"
    }
   ],
   "source": [
    "filtered_data.shape"
   ]
  },
  {
   "cell_type": "code",
   "execution_count": 16,
   "metadata": {},
   "outputs": [
    {
     "data": {
      "text/plain": [
       "9"
      ]
     },
     "execution_count": 16,
     "metadata": {},
     "output_type": "execute_result"
    }
   ],
   "source": [
    "filtered_data.Job_Role.nunique()"
   ]
  },
  {
   "cell_type": "code",
   "execution_count": 17,
   "metadata": {},
   "outputs": [
    {
     "name": "stderr",
     "output_type": "stream",
     "text": [
      "<>:1: SyntaxWarning: invalid escape sequence '\\J'\n",
      "<>:1: SyntaxWarning: invalid escape sequence '\\J'\n",
      "C:\\Users\\Gourav Banjara\\AppData\\Local\\Temp\\ipykernel_18556\\1426773223.py:1: SyntaxWarning: invalid escape sequence '\\J'\n",
      "  filtered_data.to_excel('E:\\Job_Market_Analysis\\Kaggle_data\\marketing_sample_for_indeed_co_in-indeed_co_in_job_data__20211001_20211231__30k_data.ldjson\\Data_Science_Indeed.xlsx', index = False)\n"
     ]
    }
   ],
   "source": [
    "filtered_data.to_excel('E:\\Job_Market_Analysis\\Kaggle_data\\marketing_sample_for_indeed_co_in-indeed_co_in_job_data__20211001_20211231__30k_data.ldjson\\Data_Science_Indeed.xlsx', index = False)"
   ]
  },
  {
   "cell_type": "code",
   "execution_count": null,
   "metadata": {},
   "outputs": [],
   "source": []
  },
  {
   "cell_type": "code",
   "execution_count": null,
   "metadata": {},
   "outputs": [],
   "source": []
  },
  {
   "cell_type": "code",
   "execution_count": null,
   "metadata": {},
   "outputs": [],
   "source": []
  }
 ],
 "metadata": {
  "kernelspec": {
   "display_name": "Python 3",
   "language": "python",
   "name": "python3"
  },
  "language_info": {
   "codemirror_mode": {
    "name": "ipython",
    "version": 3
   },
   "file_extension": ".py",
   "mimetype": "text/x-python",
   "name": "python",
   "nbconvert_exporter": "python",
   "pygments_lexer": "ipython3",
   "version": "3.12.1"
  }
 },
 "nbformat": 4,
 "nbformat_minor": 2
}
